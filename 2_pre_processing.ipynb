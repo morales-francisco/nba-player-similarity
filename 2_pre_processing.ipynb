{
 "cells": [
  {
   "cell_type": "code",
   "execution_count": 1,
   "metadata": {},
   "outputs": [],
   "source": [
    "import pandas as pd\n",
    "from functions import *\n",
    "from parameters import *"
   ]
  },
  {
   "cell_type": "code",
   "execution_count": 2,
   "metadata": {},
   "outputs": [],
   "source": [
    "df_per_game = pd.read_csv(path_cleaned_data+'/nba_per_game_2013_2023_cleaned.csv')\n",
    "df_advanced = pd.read_csv(path_cleaned_data+'/nba_advanced_2013_2023_cleaned.csv')\n",
    "df_play_by_play = pd.read_csv(path_cleaned_data+'/nba_play-by-play_2013_2023_cleaned.csv')"
   ]
  },
  {
   "cell_type": "code",
   "execution_count": 3,
   "metadata": {},
   "outputs": [
    {
     "name": "stdout",
     "output_type": "stream",
     "text": [
      "Merge - completed\n",
      "Column names - completed\n",
      "Data saved in data/2_processed/nba_all_stats.csv\n"
     ]
    }
   ],
   "source": [
    "df_consolidated = merge_stats(df_per_game, df_advanced, df_play_by_play)"
   ]
  },
  {
   "cell_type": "code",
   "execution_count": 4,
   "metadata": {},
   "outputs": [],
   "source": [
    "df_bios = pd.read_csv(path_cleaned_data+'/nba_players_bio_cleaned.csv')\n",
    "df_contracts = pd.read_csv(path_cleaned_data+'/nba_contracts_cleaned.csv')"
   ]
  },
  {
   "cell_type": "code",
   "execution_count": 5,
   "metadata": {},
   "outputs": [
    {
     "name": "stdout",
     "output_type": "stream",
     "text": [
      "Merge - completed\n",
      "Data saved in data/2_processed/nba_bio_contracts.csv\n"
     ]
    }
   ],
   "source": [
    "df_consolidated = merge_bio_contracts(df_bios, df_contracts)"
   ]
  },
  {
   "cell_type": "code",
   "execution_count": null,
   "metadata": {},
   "outputs": [],
   "source": []
  }
 ],
 "metadata": {
  "kernelspec": {
   "display_name": "base",
   "language": "python",
   "name": "python3"
  },
  "language_info": {
   "codemirror_mode": {
    "name": "ipython",
    "version": 3
   },
   "file_extension": ".py",
   "mimetype": "text/x-python",
   "name": "python",
   "nbconvert_exporter": "python",
   "pygments_lexer": "ipython3",
   "version": "3.1.0"
  }
 },
 "nbformat": 4,
 "nbformat_minor": 2
}
